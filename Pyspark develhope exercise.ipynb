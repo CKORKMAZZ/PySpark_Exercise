{
 "cells": [
  {
   "cell_type": "code",
   "execution_count": 4,
   "id": "3d5bfdf9",
   "metadata": {
    "ExecuteTime": {
     "end_time": "2023-03-23T14:30:16.688817Z",
     "start_time": "2023-03-23T14:30:16.670851Z"
    }
   },
   "outputs": [],
   "source": [
    "import pyspark\n",
    "from pyspark.sql import SparkSession"
   ]
  },
  {
   "cell_type": "code",
   "execution_count": 5,
   "id": "e72b25ab",
   "metadata": {
    "ExecuteTime": {
     "end_time": "2023-03-23T14:30:45.497709Z",
     "start_time": "2023-03-23T14:30:44.268668Z"
    }
   },
   "outputs": [],
   "source": [
    "spark = SparkSession.builder.master('local[*]').appName('Final').getOrCreate()"
   ]
  },
  {
   "cell_type": "code",
   "execution_count": 6,
   "id": "9c66021b",
   "metadata": {
    "ExecuteTime": {
     "end_time": "2023-03-23T14:30:47.574335Z",
     "start_time": "2023-03-23T14:30:47.548306Z"
    }
   },
   "outputs": [
    {
     "data": {
      "text/html": [
       "\n",
       "            <div>\n",
       "                <p><b>SparkSession - in-memory</b></p>\n",
       "                \n",
       "        <div>\n",
       "            <p><b>SparkContext</b></p>\n",
       "\n",
       "            <p><a href=\"http://DESKTOP-PKKIECV.mshome.net:4040\">Spark UI</a></p>\n",
       "\n",
       "            <dl>\n",
       "              <dt>Version</dt>\n",
       "                <dd><code>v3.3.2</code></dd>\n",
       "              <dt>Master</dt>\n",
       "                <dd><code>local[*]</code></dd>\n",
       "              <dt>AppName</dt>\n",
       "                <dd><code>Datamanipulation</code></dd>\n",
       "            </dl>\n",
       "        </div>\n",
       "        \n",
       "            </div>\n",
       "        "
      ],
      "text/plain": [
       "<pyspark.sql.session.SparkSession at 0x2d5aa889370>"
      ]
     },
     "execution_count": 6,
     "metadata": {},
     "output_type": "execute_result"
    }
   ],
   "source": [
    "spark"
   ]
  },
  {
   "cell_type": "code",
   "execution_count": 12,
   "id": "684a5e54",
   "metadata": {
    "ExecuteTime": {
     "end_time": "2023-03-23T14:34:08.272040Z",
     "start_time": "2023-03-23T14:34:08.261033Z"
    }
   },
   "outputs": [
    {
     "name": "stdout",
     "output_type": "stream",
     "text": [
      "root\n",
      " |-- Row ID: string (nullable = true)\n",
      " |-- Order ID: string (nullable = true)\n",
      " |-- Order Date: string (nullable = true)\n",
      " |-- Ship Date: string (nullable = true)\n",
      " |-- Ship Mode: string (nullable = true)\n",
      " |-- Customer ID: string (nullable = true)\n",
      " |-- Customer Name: string (nullable = true)\n",
      " |-- Segment: string (nullable = true)\n",
      " |-- City: string (nullable = true)\n",
      " |-- State: string (nullable = true)\n",
      " |-- Country: string (nullable = true)\n",
      " |-- Region: string (nullable = true)\n",
      " |-- Product ID: string (nullable = true)\n",
      " |-- Category: string (nullable = true)\n",
      " |-- Sub-Category: string (nullable = true)\n",
      " |-- Product Name: string (nullable = true)\n",
      " |-- Sales: string (nullable = true)\n",
      " |-- Quantity: string (nullable = true)\n",
      " |-- Discount: string (nullable = true)\n",
      " |-- Profit: string (nullable = true)\n",
      "\n"
     ]
    }
   ],
   "source": [
    "df.printSchema()"
   ]
  },
  {
   "cell_type": "code",
   "execution_count": 7,
   "id": "accda54d",
   "metadata": {
    "ExecuteTime": {
     "end_time": "2023-03-23T14:31:06.631808Z",
     "start_time": "2023-03-23T14:31:01.964111Z"
    }
   },
   "outputs": [],
   "source": [
    "#Read our data\n",
    "df = spark.read.option('header','true').csv('Sample - EU Superstore.csv')"
   ]
  },
  {
   "cell_type": "code",
   "execution_count": 8,
   "id": "12c2696c",
   "metadata": {
    "ExecuteTime": {
     "end_time": "2023-03-23T14:33:01.169195Z",
     "start_time": "2023-03-23T14:33:00.252496Z"
    }
   },
   "outputs": [
    {
     "data": {
      "text/plain": [
       "2827"
      ]
     },
     "execution_count": 8,
     "metadata": {},
     "output_type": "execute_result"
    }
   ],
   "source": [
    "# how many rows of the EU Superstore dataset have the country being France\n",
    "df.filter(df['Country'] == 'France').count()"
   ]
  },
  {
   "cell_type": "code",
   "execution_count": 11,
   "id": "19f554b4",
   "metadata": {
    "ExecuteTime": {
     "end_time": "2023-03-23T14:33:52.484996Z",
     "start_time": "2023-03-23T14:33:52.156651Z"
    }
   },
   "outputs": [
    {
     "data": {
      "text/plain": [
       "2277"
      ]
     },
     "execution_count": 11,
     "metadata": {},
     "output_type": "execute_result"
    }
   ],
   "source": [
    "# of those, how many are profitable?\n",
    "df.filter((df['Country'] == 'France') & (df['Profit'] > 0)).count()"
   ]
  },
  {
   "cell_type": "code",
   "execution_count": 13,
   "id": "ce6fcb70",
   "metadata": {
    "ExecuteTime": {
     "end_time": "2023-03-23T14:34:29.361508Z",
     "start_time": "2023-03-23T14:34:28.812507Z"
    }
   },
   "outputs": [
    {
     "name": "stdout",
     "output_type": "stream",
     "text": [
      "+--------+\n",
      "|Discount|\n",
      "+--------+\n",
      "|     0.3|\n",
      "|     0.7|\n",
      "|       0|\n",
      "|     0.2|\n",
      "|    0.15|\n",
      "|    0.35|\n",
      "|     0.8|\n",
      "|    0.45|\n",
      "|     0.5|\n",
      "|    0.65|\n",
      "|     0.6|\n",
      "|     0.1|\n",
      "|    0.85|\n",
      "|     0.4|\n",
      "+--------+\n",
      "\n"
     ]
    }
   ],
   "source": [
    "# how any different discount brackets exist? what are they?\n",
    "df.select('Discount').distinct().show()"
   ]
  },
  {
   "cell_type": "code",
   "execution_count": 17,
   "id": "6a209743",
   "metadata": {
    "ExecuteTime": {
     "end_time": "2023-03-23T14:38:43.872422Z",
     "start_time": "2023-03-23T14:38:43.556967Z"
    }
   },
   "outputs": [
    {
     "name": "stdout",
     "output_type": "stream",
     "text": [
      "+--------+-------------------+\n",
      "|Discount|        sum(Profit)|\n",
      "+--------+-------------------+\n",
      "|       0| 383806.53000000026|\n",
      "|     0.1|  126884.0309999999|\n",
      "|    0.15| 24677.563499999975|\n",
      "|     0.2| 2189.5499999999984|\n",
      "|     0.8|           -460.284|\n",
      "|     0.3| -758.4209999999999|\n",
      "|    0.45|         -1103.1915|\n",
      "|    0.85|          -3068.658|\n",
      "|     0.7|          -5496.765|\n",
      "|    0.65| -6221.965499999999|\n",
      "|    0.35|          -9122.649|\n",
      "|     0.6|-20517.456000000002|\n",
      "|     0.4|-21346.427999999996|\n",
      "|     0.5|         -96632.115|\n",
      "+--------+-------------------+\n",
      "\n"
     ]
    }
   ],
   "source": [
    "# let's see the totl profit by discount bracket, make sure they are ordered by \n",
    "profit_by_discount = df.groupBy('Discount').agg({'Profit': 'sum'}).orderBy('sum(Profit)', ascending = False)\n",
    "\n",
    "profit_by_discount.show()\n"
   ]
  },
  {
   "cell_type": "code",
   "execution_count": 21,
   "id": "4ad2f6a0",
   "metadata": {
    "ExecuteTime": {
     "end_time": "2023-03-23T14:39:47.031185Z",
     "start_time": "2023-03-23T14:39:46.404028Z"
    }
   },
   "outputs": [
    {
     "data": {
      "text/plain": [
       "'0.2'"
      ]
     },
     "execution_count": 21,
     "metadata": {},
     "output_type": "execute_result"
    }
   ],
   "source": [
    "# what is the value after which we should stop offering discount?\n",
    "profit_by_discount.filter(profit_by_discount[\"sum(Profit)\"] > 0).orderBy(\"sum(Profit)\", ascending=True).select(\"Discount\").collect()[0][0]"
   ]
  },
  {
   "cell_type": "code",
   "execution_count": 23,
   "id": "0af963a4",
   "metadata": {
    "ExecuteTime": {
     "end_time": "2023-03-23T14:40:48.783060Z",
     "start_time": "2023-03-23T14:40:48.764059Z"
    }
   },
   "outputs": [
    {
     "name": "stdout",
     "output_type": "stream",
     "text": [
      "root\n",
      " |-- Row ID: string (nullable = true)\n",
      " |-- Order ID: string (nullable = true)\n",
      " |-- Order Date: string (nullable = true)\n",
      " |-- Ship Date: string (nullable = true)\n",
      " |-- Ship Mode: string (nullable = true)\n",
      " |-- Customer ID: string (nullable = true)\n",
      " |-- Customer Name: string (nullable = true)\n",
      " |-- Segment: string (nullable = true)\n",
      " |-- City: string (nullable = true)\n",
      " |-- State: string (nullable = true)\n",
      " |-- Country: string (nullable = true)\n",
      " |-- Region: string (nullable = true)\n",
      " |-- Product ID: string (nullable = true)\n",
      " |-- Category: string (nullable = true)\n",
      " |-- Sub-Category: string (nullable = true)\n",
      " |-- Product Name: string (nullable = true)\n",
      " |-- Sales: string (nullable = true)\n",
      " |-- Quantity: string (nullable = true)\n",
      " |-- Discount: string (nullable = true)\n",
      " |-- Profit: string (nullable = true)\n",
      "\n"
     ]
    }
   ],
   "source": [
    "df.printSchema()"
   ]
  },
  {
   "cell_type": "code",
   "execution_count": 27,
   "id": "03dcaf34",
   "metadata": {
    "ExecuteTime": {
     "end_time": "2023-03-23T14:41:26.823196Z",
     "start_time": "2023-03-23T14:41:26.780842Z"
    }
   },
   "outputs": [],
   "source": [
    "# who are the top 5 most profitable customers\n",
    "\n",
    "top_5 = df.groupBy('Customer ID').agg({'Profit':'mean'}).orderBy('avg(Profit)', ascending = False).limit(5)"
   ]
  },
  {
   "cell_type": "code",
   "execution_count": 39,
   "id": "a9bbd2a8",
   "metadata": {
    "ExecuteTime": {
     "end_time": "2023-03-23T14:46:59.788796Z",
     "start_time": "2023-03-23T14:46:59.764781Z"
    }
   },
   "outputs": [],
   "source": [
    "# get all the rows belonging to those 5 customer names: hint, you may need the collect method - how many rows are they?\n",
    "\n",
    "top_5_cust = top_5.select('Customer ID')\n",
    "df[df['Customer ID'].isin(top_5_cust['Customer ID'])].collect()"
   ]
  },
  {
   "cell_type": "code",
   "execution_count": 31,
   "id": "727bc36c",
   "metadata": {
    "ExecuteTime": {
     "end_time": "2023-03-23T14:43:06.496867Z",
     "start_time": "2023-03-23T14:43:06.452865Z"
    }
   },
   "outputs": [],
   "source": [
    "# create a new column which is the value of the sale were there not discount applied. Hint: orginal = sales/(1-d)\n",
    "df = df.withColumn('Original', df['Sales'] / (1-df['Discount']))"
   ]
  },
  {
   "cell_type": "code",
   "execution_count": 32,
   "id": "3000a9d4",
   "metadata": {
    "ExecuteTime": {
     "end_time": "2023-03-23T14:43:25.766816Z",
     "start_time": "2023-03-23T14:43:25.388812Z"
    }
   },
   "outputs": [
    {
     "name": "stdout",
     "output_type": "stream",
     "text": [
      "+--------+------------------+\n",
      "|Discount|         sum(Lose)|\n",
      "+--------+------------------+\n",
      "|     0.3|2630.2410000000004|\n",
      "|     0.7|          8534.085|\n",
      "|       0|               0.0|\n",
      "|     0.2|10653.119999999997|\n",
      "|    0.15| 45233.17650000002|\n",
      "|    0.35|29163.099000000002|\n",
      "|     0.8| 635.6640000000002|\n",
      "|    0.45|2083.4414999999995|\n",
      "|     0.5|183734.26500000045|\n",
      "|    0.65|12219.655499999999|\n",
      "|     0.6| 39644.04599999997|\n",
      "|     0.1| 84712.44899999995|\n",
      "|    0.85|          4515.438|\n",
      "|     0.4| 46724.68800000002|\n",
      "+--------+------------------+\n",
      "\n"
     ]
    }
   ],
   "source": [
    "# how much money did we not gain due to the discounts - per discount bracket?\n",
    "df = df.withColumn('Lose', df['Original'] -df['Sales'])\n",
    "df.groupBy('Discount').agg({'Lose': 'sum'}).show()"
   ]
  },
  {
   "cell_type": "code",
   "execution_count": 33,
   "id": "e31c38ac",
   "metadata": {
    "ExecuteTime": {
     "end_time": "2023-03-23T14:43:33.504752Z",
     "start_time": "2023-03-23T14:43:33.235753Z"
    }
   },
   "outputs": [
    {
     "name": "stdout",
     "output_type": "stream",
     "text": [
      "+--------+------------------+\n",
      "|Discount|         sum(Lose)|\n",
      "+--------+------------------+\n",
      "|     0.5|183734.26500000045|\n",
      "+--------+------------------+\n",
      "\n"
     ]
    }
   ],
   "source": [
    "# find the discount bracket which made us not gain the most (dynamically)\n",
    "df.groupBy('Discount').agg({'Lose': 'sum'}).orderBy('sum(Lose)', ascending = False).limit(1).show()"
   ]
  },
  {
   "cell_type": "code",
   "execution_count": 34,
   "id": "e7da3331",
   "metadata": {
    "ExecuteTime": {
     "end_time": "2023-03-23T14:43:40.545667Z",
     "start_time": "2023-03-23T14:43:40.540668Z"
    }
   },
   "outputs": [],
   "source": [
    "#how much more (or less) profit is that?\n",
    "\n",
    "#We would not lose about 183k $ if we removed all orders from 0.5 discount group."
   ]
  },
  {
   "cell_type": "code",
   "execution_count": 35,
   "id": "1f5f2019",
   "metadata": {
    "ExecuteTime": {
     "end_time": "2023-03-23T14:43:45.500082Z",
     "start_time": "2023-03-23T14:43:45.429086Z"
    }
   },
   "outputs": [],
   "source": [
    "# create a temporary table for our superstore table in sql\n",
    "df.createOrReplaceTempView('df')"
   ]
  },
  {
   "cell_type": "code",
   "execution_count": 36,
   "id": "04f7173e",
   "metadata": {
    "ExecuteTime": {
     "end_time": "2023-03-23T14:43:50.309874Z",
     "start_time": "2023-03-23T14:43:50.068880Z"
    }
   },
   "outputs": [
    {
     "name": "stdout",
     "output_type": "stream",
     "text": [
      "+--------+\n",
      "|count(1)|\n",
      "+--------+\n",
      "|   10000|\n",
      "+--------+\n",
      "\n"
     ]
    }
   ],
   "source": [
    "# use an SQL query to count the number of rows\n",
    "spark.sql('SELECT Count(*) FROM df').show()"
   ]
  },
  {
   "cell_type": "code",
   "execution_count": 37,
   "id": "f48ff1b9",
   "metadata": {
    "ExecuteTime": {
     "end_time": "2023-03-23T14:43:56.670374Z",
     "start_time": "2023-03-23T14:43:56.228373Z"
    }
   },
   "outputs": [
    {
     "name": "stdout",
     "output_type": "stream",
     "text": [
      "+--------------+--------------------------+\n",
      "|       Country|(sum(Profit) / sum(Sales))|\n",
      "+--------------+--------------------------+\n",
      "|   Switzerland|        0.2909201193350232|\n",
      "|       Austria|        0.2641908775042505|\n",
      "|        Norway|        0.2517747548521659|\n",
      "|       Belgium|       0.23508766583987942|\n",
      "|United Kingdom|       0.21170103540397134|\n",
      "|         Spain|       0.18941580658358978|\n",
      "|       Finland|       0.18864296633316185|\n",
      "|       Germany|       0.17066792076621765|\n",
      "|        France|       0.12693568221933804|\n",
      "|         Italy|       0.06844355185424991|\n",
      "|       Ireland|      -0.44426677493909256|\n",
      "|       Denmark|       -0.4957190005664471|\n",
      "|   Netherlands|       -0.5298342790541865|\n",
      "|        Sweden|       -0.5745674280714466|\n",
      "|      Portugal|       -0.5761662270806188|\n",
      "+--------------+--------------------------+\n",
      "\n"
     ]
    }
   ],
   "source": [
    "# Use an SQL query to calculate the profit ratio for each country: hint, ratio is sum(profit)/sum(sales)\n",
    "spark.sql('SELECT Country ,sum(Profit) / sum(Sales) FROM df GROUP BY Country ORDER BY 2 DESC').show()"
   ]
  },
  {
   "cell_type": "code",
   "execution_count": 38,
   "id": "ab8e0c34",
   "metadata": {
    "ExecuteTime": {
     "end_time": "2023-03-23T14:44:04.428617Z",
     "start_time": "2023-03-23T14:44:03.948002Z"
    }
   },
   "outputs": [
    {
     "name": "stdout",
     "output_type": "stream",
     "text": [
      "+--------------+-----------+\n",
      "|       Country|max(Profit)|\n",
      "+--------------+-----------+\n",
      "|       Germany|     99.696|\n",
      "|        France|     99.672|\n",
      "|         Spain|     99.441|\n",
      "|United Kingdom|      99.24|\n",
      "|         Italy|      99.24|\n",
      "|       Austria|         99|\n",
      "|   Switzerland|      952.2|\n",
      "|       Finland|      94.92|\n",
      "|       Belgium|      91.68|\n",
      "|        Norway|         90|\n",
      "|   Netherlands|      9.048|\n",
      "|       Denmark|          0|\n",
      "|      Portugal|          0|\n",
      "|        Sweden|          0|\n",
      "|       Ireland|     -92.52|\n",
      "+--------------+-----------+\n",
      "\n"
     ]
    }
   ],
   "source": [
    "# is the country with the largest profit ratio, the country with the largest profit?\n",
    "\n",
    "spark.sql('SELECT Country, MAX(Profit) FROM df GROUP BY Country ORDER BY MAX(Profit) DESC').show()\n",
    "\n",
    "# According to results it is not correct."
   ]
  }
 ],
 "metadata": {
  "kernelspec": {
   "display_name": "pyspark",
   "language": "python",
   "name": "pyspark"
  },
  "language_info": {
   "codemirror_mode": {
    "name": "ipython",
    "version": 3
   },
   "file_extension": ".py",
   "mimetype": "text/x-python",
   "name": "python",
   "nbconvert_exporter": "python",
   "pygments_lexer": "ipython3",
   "version": "3.9.16"
  },
  "toc": {
   "base_numbering": 1,
   "nav_menu": {},
   "number_sections": true,
   "sideBar": true,
   "skip_h1_title": false,
   "title_cell": "Table of Contents",
   "title_sidebar": "Contents",
   "toc_cell": false,
   "toc_position": {},
   "toc_section_display": true,
   "toc_window_display": false
  }
 },
 "nbformat": 4,
 "nbformat_minor": 5
}
